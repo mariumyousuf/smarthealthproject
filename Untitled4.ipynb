{
 "cells": [
  {
   "cell_type": "code",
   "execution_count": 1,
   "metadata": {},
   "outputs": [],
   "source": [
    "import pandas as pd\n",
    "import matplotlib.pyplot as plt\n",
    "import seaborn as sns\n",
    "import numpy as np\n",
    "import os \n",
    "import csv\n",
    "import scipy as sp\n",
    "import re\n",
    "from sklearn import preprocessing\n",
    "from mpl_toolkits.mplot3d import Axes3D"
   ]
  },
  {
   "cell_type": "code",
   "execution_count": 2,
   "metadata": {},
   "outputs": [
    {
     "name": "stdout",
     "output_type": "stream",
     "text": [
      "Current working directory C:\\Users\\dell\\Desktop\\SMARTCHAIR\n",
      "Directory changed successfully C:\\Users\\dell\\Desktop\\Data_Salma\\GroundT_Salma\n"
     ]
    }
   ],
   "source": [
    "path=\"/Users/dell/Desktop/Data_Salma/GroundT_Salma\"\n",
    "# Check current working directory.\n",
    "retval1 = os.getcwd()\n",
    "print(\"Current working directory %s\" % retval1)\n",
    "\n",
    "# Now change the directory\n",
    "os.chdir( path )\n",
    "\n",
    "# Check current working directory.\n",
    "retval2 = os.getcwd()\n",
    "\n",
    "print(\"Directory changed successfully %s\" % retval2)"
   ]
  },
  {
   "cell_type": "code",
   "execution_count": 3,
   "metadata": {},
   "outputs": [
    {
     "name": "stdout",
     "output_type": "stream",
     "text": [
      "file:  ._scores.csv\n",
      "file:  ._scorestest.csv\n",
      "file:  ._timestest.csv\n",
      "file:  9SensChairData65153532.txt\n",
      "file:  bmedata65153528.txt\n",
      "file:  FC-6-162_SLUM_2017-06-05 15.44.13.txt\n",
      "file:  FC_6_162_2017-06-05-AllSensorsData.xml\n",
      "file:  mpudata65153528.txt\n",
      "file:  scores.csv\n",
      "file:  scorestest.csv\n",
      "file:  timestest.csv\n",
      "file:  9SensChairData458525.txt\n",
      "file:  bmedata44141431.txt\n",
      "file:  Ga4143_SLUM_2017-04-05 12-12-38.txt\n",
      "file:  mpudata44141431.txt\n",
      "file:  scores.csv\n",
      "file:  ._9SensChairData51291915.txt\n",
      "file:  9SensChairData51291915.txt\n",
      "file:  bmedata51291919.txt\n",
      "file:  mpudata51291919.txt\n",
      "file:  Mt5160_SLUM_2017-05-12 092056.txt\n",
      "file:  scores.csv\n",
      "file:  ._scores.csv\n",
      "file:  9SensChairData458525.txt\n",
      "file:  bmedata44141431.txt\n",
      "file:  mpudata44141431.txt\n",
      "file:  Mw04207_SLUM_2017-04-05 085542.txt\n",
      "file:  scores.csv\n",
      "file:  9SensChairData539357.txt\n",
      "file:  bmedata53943.txt\n",
      "file:  mpudata53943.txt\n",
      "file:  MW-5-208_SLUM_2017-05-03 090950.txt\n",
      "file:  scores.csv\n",
      "file:  ._scores.csv\n",
      "file:  9SensChairData721164656.txt\n",
      "file:  bmedata721164654.txt\n",
      "file:  mpudata721164654.txt\n",
      "file:  Pb7168_SLUM_2017-07-21_04-45-01.txt\n",
      "file:  scores.csv\n",
      "file:  9SensChairData414101651.txt\n",
      "file:  bmedata414101651.txt\n",
      "file:  mpudata414101651.txt\n",
      "file:  scores.csv\n",
      "file:  SH-4-153_SLUM_2017-04-14 110746.txt\n",
      "file:  .DS_Store\n",
      "file:  ._.DS_Store\n",
      "file:  ._scores.csv\n",
      "file:  9SensChairData82593027.txt\n",
      "file:  bmedata82593023.txt\n",
      "file:  mpudata82593023.txt\n",
      "file:  scores.csv\n",
      "file:  SJ-8-223_SLUM_2017-08-25_09-36-58.txt\n",
      "file:  ._scores.csv\n",
      "file:  9SensChairData4381459.txt\n",
      "file:  bmedata4381457.txt\n",
      "file:  mpudata4381457.txt\n",
      "file:  scores.csv\n",
      "file:  scorestest.csv\n",
      "file:  SS-4-156_SLUM_2017-04-03 102726.txt\n",
      "file:  timestest.csv\n",
      "file:  ._scores.csv\n",
      "file:  2c_SS_08_131_2017-08-25_SLUMS.xml\n",
      "file:  9SensChairData82510151.txt\n",
      "file:  bmedata82510150.txt\n",
      "file:  mpudata82510150.txt\n",
      "file:  scores.csv\n",
      "file:  Ss-8-131_SLUM_2017-08-25_10-10-37.txt\n",
      "file:  9SensChairData724102319.txt\n",
      "file:  bmedata724102317.txt\n",
      "file:  mpudata724102317.txt\n",
      "file:  scores.csv\n",
      "file:  scorestest.csv\n",
      "file:  Sw7160_SLUM_2017-07-24_10-30-19.txt\n",
      "file:  SW_7_160_2017-07-24-AllSensorsData.xml\n",
      "file:  timestest.csv\n"
     ]
    }
   ],
   "source": [
    "for filename in os.listdir(os.getcwd()):\n",
    "    if len(filename) == 8:\n",
    "        os.chdir(filename)\n",
    "        for file in os.listdir(os.getcwd()):\n",
    "            print(\"file: \", file)\n",
    "        os.chdir('..')\n",
    "                "
   ]
  },
  {
   "cell_type": "code",
   "execution_count": null,
   "metadata": {},
   "outputs": [],
   "source": [
    "# Check current working directory.\n",
    "retval2 = os.getcwd()\n",
    "\n",
    "print(\"Directory changed successfully:: %s\" % retval2)"
   ]
  },
  {
   "cell_type": "code",
   "execution_count": null,
   "metadata": {},
   "outputs": [],
   "source": []
  }
 ],
 "metadata": {
  "kernelspec": {
   "display_name": "Python 3",
   "language": "python",
   "name": "python3"
  },
  "language_info": {
   "codemirror_mode": {
    "name": "ipython",
    "version": 3
   },
   "file_extension": ".py",
   "mimetype": "text/x-python",
   "name": "python",
   "nbconvert_exporter": "python",
   "pygments_lexer": "ipython3",
   "version": "3.7.0"
  }
 },
 "nbformat": 4,
 "nbformat_minor": 2
}
