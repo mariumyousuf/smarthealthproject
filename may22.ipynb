{
 "cells": [
  {
   "cell_type": "code",
   "execution_count": 1,
   "metadata": {
    "collapsed": false
   },
   "outputs": [],
   "source": [
    "import pandas as pd\n",
    "import matplotlib.pyplot as plt\n",
    "import seaborn as sns\n",
    "import numpy as np\n",
    "import os \n",
    "import csv\n",
    "import scipy as sp\n",
    "from sklearn import preprocessing\n",
    "from mpl_toolkits.mplot3d import Axes3D\n",
    "import pytz\n",
    "import time\n",
    "from datetime import datetime"
   ]
  },
  {
   "cell_type": "code",
   "execution_count": 2,
   "metadata": {
    "collapsed": false
   },
   "outputs": [
    {
     "name": "stdout",
     "output_type": "stream",
     "text": [
      "Current working directory C:\\Users\\slcz5\\Desktop\\smarthealthproject-master\n",
      "Directory changed successfully C:\\Users\\slcz5\\Downloads\\gt_21patss\n"
     ]
    }
   ],
   "source": [
    "path=\"/Users/slcz5/Downloads/gt_21patss\"\n",
    "# Check current working directory.\n",
    "retval1 = os.getcwd()\n",
    "print(\"Current working directory %s\" % retval1)\n",
    "\n",
    "# Now change the directory\n",
    "os.chdir( path )\n",
    "\n",
    "# Check current working directory.\n",
    "retval2 = os.getcwd()\n",
    "\n",
    "print(\"Directory changed successfully %s\" % retval2)"
   ]
  },
  {
   "cell_type": "code",
   "execution_count": 3,
   "metadata": {
    "collapsed": true
   },
   "outputs": [],
   "source": [
    "q1 = []\n",
    "q2 = []\n",
    "q3 = []\n",
    "q5 = []\n",
    "q6 = []\n",
    "q7 = []\n",
    "q8 = []\n",
    "q9 = []\n",
    "q10 = []\n",
    "q11 = []\n",
    "q12 = []"
   ]
  },
  {
   "cell_type": "code",
   "execution_count": 4,
   "metadata": {
    "collapsed": false
   },
   "outputs": [
    {
     "name": "stdout",
     "output_type": "stream",
     "text": [
      "fvfff\n",
      "FC_06_162\n",
      "kakakakak\n",
      "file:  FC-6-162_SLUM.txt\n",
      "27\n",
      "[9, 8, 7, 50065, 77, 36, 18, 85, 19, 45, 81]\n",
      "[9]\n",
      "GA_04_143\n",
      "kakakakak\n",
      "file:  Ga4143_SLUM_2017-04-05 12-12-38.txt\n",
      "14\n",
      "[77760, 6, 9, 47230, 85, 77560, 13, 64, 50, 21, 90]\n",
      "[9, 77760]\n",
      "KL_05_221\n",
      "kakakakak\n",
      "file:  Kl05221_SLUM_2017-05-03 153121.txt\n",
      "26\n",
      "[13, 7, 8, 11202, 33, 22, 17, 75, 9, 10, 75498]\n",
      "[9, 77760, 13]\n",
      "LO_05_167\n",
      "kakakakak\n",
      "file:  LO-5-167_SLUM_2017-05-03 143940.txt\n",
      "9\n",
      "[27, 72434, 8, 13939, 77, 38, 19, 186, 13555, 72, 86]\n",
      "[9, 77760, 13, 27]\n",
      "MT_05_160\n",
      "kakakakak\n",
      "file:  Mt5160_SLUM_2017-05-12 092056.txt\n",
      "25\n",
      "[15, 7, 8, 52, 50, 22, 20, 77, 17, 11, 85]\n",
      "[9, 77760, 13, 27, 15]\n",
      "MW_04_207\n",
      "kakakakak\n",
      "file:  Mw04207_SLUM_2017-04-05 085542.txt\n",
      "19\n",
      "[15, 8, 9, 37, 36670, 23, 9, 25, 36, 43, 48]\n",
      "[9, 77760, 13, 27, 15, 15]\n",
      "MW_05_208\n",
      "kakakakak\n",
      "file:  MW-5-208_SLUM_2017-05-03 090950.txt\n",
      "22\n",
      "[14, 14, 8, 31, 54729, 34, 12, 104, 15, 40, 74]\n",
      "[9, 77760, 13, 27, 15, 15, 14]\n",
      "SH_04_153\n",
      "kakakakak\n",
      "file:  SH-4-153_SLUM_2017-04-14 110746.txt\n",
      "15\n",
      "[13, 15, 11, 26, 78, 52484, 16, 102, 19, 21, 83996]\n",
      "[9, 77760, 13, 27, 15, 15, 14, 13]\n",
      "SS_04_156\n",
      "kakakakak\n",
      "file:  SS-4-156_SLUM_2017-04-03 102726.txt\n",
      "20\n",
      "[12, 21, 10, 51, 74, 24, 31822, 72, 24, 28, 59258]\n",
      "[9, 77760, 13, 27, 15, 15, 14, 13, 12]\n"
     ]
    }
   ],
   "source": [
    "###### loop to get all the file's names of patient\n",
    "Allpatient=[] \n",
    "tdelta=[]\n",
    "oldScore =[]\n",
    "print(\"fvfff\")\n",
    "for filename in os.listdir(os.getcwd()):\n",
    "    if len(filename) == 9:\n",
    "        print(filename)\n",
    "        print(\"kakakakak\")\n",
    "        os.chdir(filename)\n",
    "        #get into the each patient file\n",
    "        for file in os.listdir(os.getcwd()):\n",
    "            if \"SLUM\" in file:\n",
    "                print(\"file: \", file)\n",
    "                patient=pd.read_csv(file,engine='python', encoding = \"utf-8-sig\" ,sep=\":\", header=None)\n",
    "                Allpatient.append(patient)\n",
    "                patient.columns = [\"STStamp\", \"UNIX_Timestamp\"]\n",
    "                patient.index = patient.STStamp\n",
    "                del patient['STStamp']\n",
    "                start=patient.loc[\"STStamp\"]\n",
    "                end=patient.loc[\"ETStamp\"]\n",
    "                st = start.copy()\n",
    "                st['UNIX_Timestamp'] = st['UNIX_Timestamp'].map(lambda x: x.lstrip(' ').rstrip(''))\n",
    "                en=end.copy()\n",
    "                en['UNIX_Timestamp'] = en['UNIX_Timestamp'].map(lambda x: x.lstrip(' ').rstrip(''))\n",
    "                UNIXstart = list(st.UNIX_Timestamp)\n",
    "                UNIXend = list(en.UNIX_Timestamp)\n",
    "                newList = []\n",
    "                patID=patient.loc[\"PatientID\"]\n",
    "                patID=(patID[\"UNIX_Timestamp\"])\n",
    "                for i in UNIXstart:\n",
    "                    newList.append(time.strftime('%Y-%m-%d %H:%M:%S', time.localtime(int(i)/1000)))\n",
    "\n",
    "                newList1 = []\n",
    "                for i in UNIXend:\n",
    "                    newList1.append(time.strftime('%Y-%m-%d %H:%M:%S', time.localtime(int(i)/1000)))\n",
    "                tdeltaL = []\n",
    "                for i in range(len(newList)):\n",
    "                    s1 = newList[i]\n",
    "                    s2 = newList1[i]\n",
    "                    FMT = '%Y-%m-%d %H:%M:%S'\n",
    "                    tdelta = datetime.strptime(s2, FMT) - datetime.strptime(s1, FMT)\n",
    "                    tdeltaL.append(tdelta.seconds)\n",
    "                score=patient.loc[\"Score\"]\n",
    "                scoreL = list(score[\"UNIX_Timestamp\"])\n",
    "                scoreL = [int(i) for i in scoreL]\n",
    "                score = sum(scoreL)\n",
    "                oldScore.append(score)\n",
    "                print(score)\n",
    "                #print(tdelta)\n",
    "                print(tdeltaL)\n",
    "                q1.append(tdeltaL[0])\n",
    "                q2.append(tdeltaL[1])\n",
    "                q3.append(tdeltaL[2])\n",
    "                q5.append(tdeltaL[3])\n",
    "                q6.append(tdeltaL[4])\n",
    "                q7.append(tdeltaL[5])\n",
    "                q8.append(tdeltaL[6])\n",
    "                q9.append(tdeltaL[7])\n",
    "                q10.append(tdeltaL[8])\n",
    "                q11.append(tdeltaL[9])\n",
    "                q12.append(tdeltaL[10]) \n",
    "                print(q1)\n",
    "        os.chdir('..') "
   ]
  },
  {
   "cell_type": "raw",
   "metadata": {},
   "source": [
    "start"
   ]
  },
  {
   "cell_type": "code",
   "execution_count": 5,
   "metadata": {
    "collapsed": false
   },
   "outputs": [
    {
     "name": "stdout",
     "output_type": "stream",
     "text": [
      "8653.11111111\n",
      "24432.9753291\n"
     ]
    }
   ],
   "source": [
    "q1mean = np.mean(q1)\n",
    "q1std = np.std(q1)\n",
    "print(q1mean)\n",
    "print(q1std)"
   ]
  },
  {
   "cell_type": "code",
   "execution_count": 6,
   "metadata": {
    "collapsed": false
   },
   "outputs": [
    {
     "name": "stdout",
     "output_type": "stream",
     "text": [
      "8057.77777778\n",
      "22760.4321272\n"
     ]
    }
   ],
   "source": [
    "q2mean = np.mean(q2)\n",
    "q2std = np.std(q2)\n",
    "print(q2mean)\n",
    "print(q2std)"
   ]
  },
  {
   "cell_type": "code",
   "execution_count": 7,
   "metadata": {
    "collapsed": false
   },
   "outputs": [
    {
     "name": "stdout",
     "output_type": "stream",
     "text": [
      "8.66666666667\n",
      "1.15470053838\n"
     ]
    }
   ],
   "source": [
    "q3mean = np.mean(q3)\n",
    "q3std = np.std(q3)\n",
    "print(q3mean)\n",
    "print(q3std)"
   ]
  },
  {
   "cell_type": "code",
   "execution_count": 8,
   "metadata": {
    "collapsed": false
   },
   "outputs": [
    {
     "name": "stdout",
     "output_type": "stream",
     "text": [
      "13625.8888889\n",
      "19396.3980874\n"
     ]
    }
   ],
   "source": [
    "q5mean = np.mean(q5)\n",
    "q5std = np.std(q5)\n",
    "print(q5mean)\n",
    "print(q5std)"
   ]
  },
  {
   "cell_type": "code",
   "execution_count": 9,
   "metadata": {
    "collapsed": false
   },
   "outputs": [
    {
     "name": "stdout",
     "output_type": "stream",
     "text": [
      "10208.1111111\n",
      "19442.6129385\n"
     ]
    }
   ],
   "source": [
    "q6mean = np.mean(q6)\n",
    "q6std = np.std(q6)\n",
    "print(q6mean)\n",
    "print(q6std)"
   ]
  },
  {
   "cell_type": "code",
   "execution_count": 10,
   "metadata": {
    "collapsed": false
   },
   "outputs": [
    {
     "name": "stdout",
     "output_type": "stream",
     "text": [
      "14471.4444444\n",
      "27659.2871408\n"
     ]
    }
   ],
   "source": [
    "q7mean = np.mean(q7)\n",
    "q7std = np.std(q7)\n",
    "print(q7mean)\n",
    "print(q7std)"
   ]
  },
  {
   "cell_type": "code",
   "execution_count": 11,
   "metadata": {
    "collapsed": false
   },
   "outputs": [
    {
     "name": "stdout",
     "output_type": "stream",
     "text": [
      "3549.55555556\n",
      "9995.8191606\n"
     ]
    }
   ],
   "source": [
    "q8mean = np.mean(q8)\n",
    "q8std = np.std(q8)\n",
    "print(q8mean)\n",
    "print(q8std)"
   ]
  },
  {
   "cell_type": "code",
   "execution_count": 12,
   "metadata": {
    "collapsed": false
   },
   "outputs": [
    {
     "name": "stdout",
     "output_type": "stream",
     "text": [
      "87.7777777778\n",
      "41.0359673614\n"
     ]
    }
   ],
   "source": [
    "q9mean = np.mean(q9)\n",
    "q9std = np.std(q9)\n",
    "print(q9mean)\n",
    "print(q9std)"
   ]
  },
  {
   "cell_type": "code",
   "execution_count": 13,
   "metadata": {
    "collapsed": false
   },
   "outputs": [
    {
     "name": "stdout",
     "output_type": "stream",
     "text": [
      "1527.11111111\n",
      "4252.51688727\n"
     ]
    }
   ],
   "source": [
    "q10mean = np.mean(q10)\n",
    "q10std = np.std(q10)\n",
    "print(q10mean)\n",
    "print(q10std)"
   ]
  },
  {
   "cell_type": "code",
   "execution_count": 14,
   "metadata": {
    "collapsed": false
   },
   "outputs": [
    {
     "name": "stdout",
     "output_type": "stream",
     "text": [
      "32.3333333333\n",
      "18.6666666667\n"
     ]
    }
   ],
   "source": [
    "\n",
    "q11mean = np.mean(q11)\n",
    "q11std = np.std(q11)\n",
    "print(q11mean)\n",
    "print(q11std)"
   ]
  },
  {
   "cell_type": "code",
   "execution_count": 15,
   "metadata": {
    "collapsed": false
   },
   "outputs": [
    {
     "name": "stdout",
     "output_type": "stream",
     "text": [
      "24357.3333333\n",
      "34844.5858412\n"
     ]
    }
   ],
   "source": [
    "q12mean = np.mean(q12)\n",
    "q12std = np.std(q12)\n",
    "print(q12mean)\n",
    "print(q12std)"
   ]
  },
  {
   "cell_type": "code",
   "execution_count": 16,
   "metadata": {
    "collapsed": false
   },
   "outputs": [
    {
     "data": {
      "text/plain": [
       "[27, 14, 26, 9, 25, 19, 22, 15, 20]"
      ]
     },
     "execution_count": 16,
     "metadata": {},
     "output_type": "execute_result"
    }
   ],
   "source": [
    "oldScore"
   ]
  },
  {
   "cell_type": "code",
   "execution_count": 17,
   "metadata": {
    "collapsed": true
   },
   "outputs": [],
   "source": [
    "newScore=[0]*len(oldScore)"
   ]
  },
  {
   "cell_type": "code",
   "execution_count": 18,
   "metadata": {
    "collapsed": false
   },
   "outputs": [
    {
     "data": {
      "text/plain": [
       "[0, 0, 0, 0, 0, 0, 0, 0, 0]"
      ]
     },
     "execution_count": 18,
     "metadata": {},
     "output_type": "execute_result"
    }
   ],
   "source": [
    "newScore"
   ]
  },
  {
   "cell_type": "code",
   "execution_count": 19,
   "metadata": {
    "collapsed": false
   },
   "outputs": [
    {
     "name": "stdout",
     "output_type": "stream",
     "text": [
      "7\n",
      "85\n",
      "64\n",
      "21\n",
      "8\n",
      "75\n",
      "8\n",
      "8\n",
      "77\n",
      "8\n",
      "21\n",
      "72\n",
      "28\n"
     ]
    }
   ],
   "source": [
    "newScore=[0]*len(oldScore)\n",
    "for i in range(len(q1)):\n",
    "    if q1[i] > q1mean and q1[i] < q1std: #in range(q1mean, q1std):\n",
    "        print(q1[i])\n",
    "        newScore[i]=oldScore[i]-0.25\n",
    "    elif q1[i] > q1std and q1[i] < 2*q1std :\n",
    "        newScore[i]=oldScore[i]-0.5\n",
    "    else:\n",
    "        if q1[i] >= 2*q1std:\n",
    "            newScore[i]=oldScore[i]-1\n",
    "    if q1[i] < q1mean and q1[i] > q1std: #in range(q1mean, q1std):\n",
    "        print(q1[i])\n",
    "        newScore[i]=oldScore[i]+0.25\n",
    "    elif q1[i] < q1std and q1[i] > 2*q1std :\n",
    "        newScore[i]=oldScore[i]+0.5\n",
    "    else:\n",
    "        if q1[i] <= 2*q1std:\n",
    "            newScore[i]=oldScore[i]+1\n",
    "            \n",
    "#SECOND        \n",
    "    if q2[i] > q2mean and q2[i] < q2std:\n",
    "        newScore[i]=oldScore[i]-0.25\n",
    "    elif q2[i] > q2std and q1[i] < 2*q2std:\n",
    "        newScore[i]=oldScore[i]-0.5\n",
    "    else:\n",
    "        if q2[i] >= 2*q2std:\n",
    "            newScore[i]=oldScore[i]-1\n",
    "    if q2[i] < q2mean and q2[i] > q2std: #in range(q1mean, q1std):\n",
    "        print(q2[i])\n",
    "        newScore[i]=oldScore[i]+0.25\n",
    "    elif q2[i] < q2std and q2[i] > 2*q2std :\n",
    "        newScore[i]=oldScore[i]+0.5\n",
    "    else:\n",
    "        if q2[i] <= 2*q2std:\n",
    "            newScore[i]=oldScore[i]+1\n",
    "#THIRD\n",
    "    if q3[i]  > q3mean and q3[i] < q3std:\n",
    "        newScore[i]=oldScore[i]-0.25\n",
    "    elif q3[i] > q3std and q3[i] < 2*q3std :\n",
    "        newScore[i]=oldScore[i]-0.5\n",
    "    else:\n",
    "        if q3[i] >= 2*q3std:\n",
    "            newScore[i]=oldScore[i]-1\n",
    "    if q3[i] < q3mean and q3[i] > q3std: #in range(q1mean, q1std):\n",
    "        print(q3[i])\n",
    "        newScore[i]=oldScore[i]+0.25\n",
    "    elif q3[i] < q3std and q3[i] > 2*q3std :\n",
    "        newScore[i]=oldScore[i]+0.5\n",
    "    else:\n",
    "        if q3[i] <= 2*q3std:\n",
    "            newScore[i]=oldScore[i]+1\n",
    "#fourth\n",
    "    if q5[i]  > q5mean and q5[i] < q5std:\n",
    "        newScore[i]=oldScore[i]-0.25\n",
    "    elif q5[i] > q5std and q5[i] < 2*q5std :\n",
    "        newScore[i]=oldScore[i]-0.5\n",
    "    else:\n",
    "        if q5[i] >= 2*q5std:\n",
    "            newScore[i]=oldScore[i]-1\n",
    "    if q5[i] < q5mean and q5[i] > q5std: #in range(q1mean, q1std):\n",
    "        print(q5[i])\n",
    "        newScore[i]=oldScore[i]+0.25\n",
    "    elif q5[i] < q5std and q5[i] > 2*q3std :\n",
    "        newScore[i]=oldScore[i]+0.5\n",
    "    else:\n",
    "        if q5[i] <= 2*q5std:\n",
    "            newScore[i]=oldScore[i]+1\n",
    "            \n",
    "            \n",
    "#sixth\n",
    "    if q6[i]  > q6mean and q6[i] < q6std:\n",
    "        newScore[i]=oldScore[i]-0.25\n",
    "    elif q6[i] > q6std and q6[i] < 2*q6std :\n",
    "        newScore[i]=oldScore[i]-0.5\n",
    "    else:\n",
    "        if q6[i] >= 2*q6std:\n",
    "            newScore[i]=oldScore[i]-1\n",
    "    if q6[i] < q6mean and q6[i] > q6std: #in range(q1mean, q1std):\n",
    "        print(q6[i])\n",
    "        newScore[i]=oldScore[i]+0.25\n",
    "    elif q6[i] < q6std and q6[i] > 2*q3std :\n",
    "        newScore[i]=oldScore[i]+0.5\n",
    "    else:\n",
    "        if q6[i] <= 2*q6std:\n",
    "            newScore[i]=oldScore[i]+1\n",
    "            \n",
    "#seventh            \n",
    "    if q7[i]  > q7mean and q7[i] < q7std:\n",
    "        newScore[i]=oldScore[i]-0.25\n",
    "    elif q7[i] > q7std and q7[i] < 2*q7std :\n",
    "        newScore[i]=oldScore[i]-0.5\n",
    "    else:\n",
    "        if q7[i] >= 2*q7std:\n",
    "            newScore[i]=oldScore[i]-1\n",
    "    if q7[i] < q7mean and q7[i] > q7std: #in range(q1mean, q1std):\n",
    "        print(q7[i])\n",
    "        newScore[i]=oldScore[i]+0.25\n",
    "    elif q7[i] < q7std and q7[i] > 2*q3std :\n",
    "        newScore[i]=oldScore[i]+0.5\n",
    "    else:\n",
    "        if q7[i] <= 2*q7std:\n",
    "            newScore[i]=oldScore[i]+1\n",
    "#eight \n",
    "    if q8[i] > q8mean and q8[i] < q8std:\n",
    "        newScore[i]=oldScore[i]-0.25\n",
    "    elif q8[i] > q8std and q8[i] < 2*q8std :\n",
    "        newScore[i]=oldScore[i]-0.5\n",
    "    else:\n",
    "        if q8[i] >= 2*q8std:\n",
    "            newScore[i]=oldScore[i]-1\n",
    "    if q8[i] < q8mean and q8[i] > q8std: #in range(q1mean, q1std):\n",
    "        print(q8[i])\n",
    "        newScore[i]=oldScore[i]+0.25\n",
    "    elif q8[i] < q8std and q8[i] > 2*q3std :\n",
    "        newScore[i]=oldScore[i]+0.5\n",
    "    else:\n",
    "        if q8[i] <= 2*q8std:\n",
    "            newScore[i]=oldScore[i]+1\n",
    "#nine\n",
    "    if q9[i]  > q9mean and q9[i] < q9std:\n",
    "        newScore[i]=oldScore[i]-0.25\n",
    "    elif q9[i] > q9std and q9[i] < 2*q9std :\n",
    "        newScore[i]=oldScore[i]-0.5\n",
    "    else:\n",
    "        if q9[i] >= 2*q9std:\n",
    "            newScore[i]=oldScore[i]-1\n",
    "    if q9[i] < q9mean and q9[i] > q9std: #in range(q1mean, q1std):\n",
    "        print(q9[i])\n",
    "        newScore[i]=oldScore[i]+0.25\n",
    "    elif q9[i] < q9std and q9[i] > 2*q9std :\n",
    "        newScore[i]=oldScore[i]+0.5\n",
    "    else:\n",
    "        if q9[i] <= 2*q9std:\n",
    "            newScore[i]=oldScore[i]+1\n",
    "#ten            \n",
    "            \n",
    "    if q10[i] > q10mean and q10[i] < q2std:\n",
    "        newScore[i]=oldScore[i]-0.25\n",
    "    elif q10[i] > q10std and q10[i] < 2*q10std :\n",
    "        newScore[i]=oldScore[i]-0.5\n",
    "    else:\n",
    "        if q10[i] >= 2*q10std:\n",
    "            newScore[i]=oldScore[i]-1\n",
    "    if q10[i] < q10mean and q10[i] > q10std: #in range(q1mean, q1std):\n",
    "        print(q10[i])\n",
    "        newScore[i]=oldScore[i]+0.25\n",
    "    elif q10[i] < q10std and q10[i] > 2*q3std :\n",
    "        newScore[i]=oldScore[i]+0.5\n",
    "    else:\n",
    "        if q10[i] <= 2*q10std:\n",
    "            newScore[i]=oldScore[i]+1\n",
    "#eleven\n",
    "    if q11[i]  > q11mean and q11[i] < q11std:\n",
    "        newScore[i]=oldScore[i]-0.25\n",
    "    elif q11[i] > q11std and q11[i] < 2*q11std :\n",
    "        newScore[i]=oldScore[i]-0.5\n",
    "    else:\n",
    "        if q11[i] >= 2*q11std:\n",
    "            newScore[i]=oldScore[i]-1\n",
    "    if q11[i] < q11mean and q11[i] > q11std: \n",
    "        print(q11[i])\n",
    "        newScore[i]=oldScore[i]+0.25\n",
    "    elif q11[i] < q11std and q11[i] > 2*q11std :\n",
    "        newScore[i]=oldScore[i]+0.5\n",
    "    else:\n",
    "        if q11[i] <= 2*q11std:\n",
    "            newScore[i]=oldScore[i]+1\n",
    "#twelve\n",
    "    if q12[i]  > q12mean and q12[i] < q12std:\n",
    "        newScore[i]=oldScore[i]-0.25\n",
    "    elif q12[i] > q12std and q12[i] < 2*q12std :\n",
    "        newScore[i]=oldScore[i]-0.5\n",
    "    else:\n",
    "        if q12[i] >= 2*q12std:\n",
    "            newScore[i]=oldScore[i]-1\n",
    "    if q12[i] < q12mean and q12[i] > q12std: \n",
    "        print(q12[i])\n",
    "        newScore[i]=oldScore[i]+0.25\n",
    "    elif q12[i] < q12std and q12[i] > 2*q12std :\n",
    "        newScore[i]=oldScore[i]+0.5\n",
    "    else:\n",
    "        if q12[i] <= 2*q12std:\n",
    "            newScore[i]=oldScore[i]+1\n",
    "\n",
    "\n",
    "os.chdir('..') "
   ]
  },
  {
   "cell_type": "code",
   "execution_count": 20,
   "metadata": {
    "collapsed": false
   },
   "outputs": [
    {
     "data": {
      "text/plain": [
       "[28, 15, 25, 10, 26, 20, 23, 14, 21]"
      ]
     },
     "execution_count": 20,
     "metadata": {},
     "output_type": "execute_result"
    }
   ],
   "source": [
    "newScore"
   ]
  },
  {
   "cell_type": "code",
   "execution_count": 21,
   "metadata": {
    "collapsed": false
   },
   "outputs": [
    {
     "data": {
      "text/plain": [
       "27"
      ]
     },
     "execution_count": 21,
     "metadata": {},
     "output_type": "execute_result"
    }
   ],
   "source": [
    "oldScore[0]"
   ]
  },
  {
   "cell_type": "code",
   "execution_count": 22,
   "metadata": {
    "collapsed": false
   },
   "outputs": [
    {
     "data": {
      "text/plain": [
       "[28, 15, 25, 10, 26, 20, 23, 14, 21]"
      ]
     },
     "execution_count": 22,
     "metadata": {},
     "output_type": "execute_result"
    }
   ],
   "source": [
    "newScore"
   ]
  },
  {
   "cell_type": "code",
   "execution_count": 23,
   "metadata": {
    "collapsed": false
   },
   "outputs": [
    {
     "name": "stdout",
     "output_type": "stream",
     "text": [
      "15533 days, 16:27:38\n"
     ]
    }
   ],
   "source": [
    "#avgtdelta = sum(tdelta)/len(tdelta)\n",
    "print(np.mean(tdelta))"
   ]
  },
  {
   "cell_type": "code",
   "execution_count": 24,
   "metadata": {
    "collapsed": false
   },
   "outputs": [],
   "source": [
    "mean=np.mean(tdelta)"
   ]
  },
  {
   "cell_type": "code",
   "execution_count": 25,
   "metadata": {
    "collapsed": false
   },
   "outputs": [
    {
     "data": {
      "text/plain": [
       "datetime.timedelta(15533, 59258)"
      ]
     },
     "execution_count": 25,
     "metadata": {},
     "output_type": "execute_result"
    }
   ],
   "source": [
    "tdelta"
   ]
  },
  {
   "cell_type": "code",
   "execution_count": 26,
   "metadata": {
    "collapsed": true
   },
   "outputs": [
    {
     "ename": "AttributeError",
     "evalue": "'datetime.timedelta' object has no attribute 'dtype'",
     "output_type": "error",
     "traceback": [
      "\u001b[0;31m---------------------------------------------------------------------------\u001b[0m",
      "\u001b[0;31mAttributeError\u001b[0m                            Traceback (most recent call last)",
      "\u001b[0;32m<ipython-input-26-fb9a8c819282>\u001b[0m in \u001b[0;36m<module>\u001b[0;34m()\u001b[0m\n\u001b[0;32m----> 1\u001b[0;31m \u001b[0mnp\u001b[0m\u001b[1;33m.\u001b[0m\u001b[0mstd\u001b[0m\u001b[1;33m(\u001b[0m\u001b[0mtdelta\u001b[0m\u001b[1;33m)\u001b[0m\u001b[1;33m\u001b[0m\u001b[0m\n\u001b[0m",
      "\u001b[0;32mC:\\ProgramData\\Anaconda3\\lib\\site-packages\\numpy\\core\\fromnumeric.py\u001b[0m in \u001b[0;36mstd\u001b[0;34m(a, axis, dtype, out, ddof, keepdims)\u001b[0m\n\u001b[1;32m   3057\u001b[0m \u001b[1;33m\u001b[0m\u001b[0m\n\u001b[1;32m   3058\u001b[0m     return _methods._std(a, axis=axis, dtype=dtype, out=out, ddof=ddof,\n\u001b[0;32m-> 3059\u001b[0;31m                                 **kwargs)\n\u001b[0m\u001b[1;32m   3060\u001b[0m \u001b[1;33m\u001b[0m\u001b[0m\n\u001b[1;32m   3061\u001b[0m \u001b[1;33m\u001b[0m\u001b[0m\n",
      "\u001b[0;32mC:\\ProgramData\\Anaconda3\\lib\\site-packages\\numpy\\core\\_methods.py\u001b[0m in \u001b[0;36m_std\u001b[0;34m(a, axis, dtype, out, ddof, keepdims)\u001b[0m\n\u001b[1;32m    122\u001b[0m \u001b[1;32mdef\u001b[0m \u001b[0m_std\u001b[0m\u001b[1;33m(\u001b[0m\u001b[0ma\u001b[0m\u001b[1;33m,\u001b[0m \u001b[0maxis\u001b[0m\u001b[1;33m=\u001b[0m\u001b[1;32mNone\u001b[0m\u001b[1;33m,\u001b[0m \u001b[0mdtype\u001b[0m\u001b[1;33m=\u001b[0m\u001b[1;32mNone\u001b[0m\u001b[1;33m,\u001b[0m \u001b[0mout\u001b[0m\u001b[1;33m=\u001b[0m\u001b[1;32mNone\u001b[0m\u001b[1;33m,\u001b[0m \u001b[0mddof\u001b[0m\u001b[1;33m=\u001b[0m\u001b[1;36m0\u001b[0m\u001b[1;33m,\u001b[0m \u001b[0mkeepdims\u001b[0m\u001b[1;33m=\u001b[0m\u001b[1;32mFalse\u001b[0m\u001b[1;33m)\u001b[0m\u001b[1;33m:\u001b[0m\u001b[1;33m\u001b[0m\u001b[0m\n\u001b[1;32m    123\u001b[0m     ret = _var(a, axis=axis, dtype=dtype, out=out, ddof=ddof,\n\u001b[0;32m--> 124\u001b[0;31m                keepdims=keepdims)\n\u001b[0m\u001b[1;32m    125\u001b[0m \u001b[1;33m\u001b[0m\u001b[0m\n\u001b[1;32m    126\u001b[0m     \u001b[1;32mif\u001b[0m \u001b[0misinstance\u001b[0m\u001b[1;33m(\u001b[0m\u001b[0mret\u001b[0m\u001b[1;33m,\u001b[0m \u001b[0mmu\u001b[0m\u001b[1;33m.\u001b[0m\u001b[0mndarray\u001b[0m\u001b[1;33m)\u001b[0m\u001b[1;33m:\u001b[0m\u001b[1;33m\u001b[0m\u001b[0m\n",
      "\u001b[0;32mC:\\ProgramData\\Anaconda3\\lib\\site-packages\\numpy\\core\\_methods.py\u001b[0m in \u001b[0;36m_var\u001b[0;34m(a, axis, dtype, out, ddof, keepdims)\u001b[0m\n\u001b[1;32m     94\u001b[0m                 arrmean, rcount, out=arrmean, casting='unsafe', subok=False)\n\u001b[1;32m     95\u001b[0m     \u001b[1;32melse\u001b[0m\u001b[1;33m:\u001b[0m\u001b[1;33m\u001b[0m\u001b[0m\n\u001b[0;32m---> 96\u001b[0;31m         \u001b[0marrmean\u001b[0m \u001b[1;33m=\u001b[0m \u001b[0marrmean\u001b[0m\u001b[1;33m.\u001b[0m\u001b[0mdtype\u001b[0m\u001b[1;33m.\u001b[0m\u001b[0mtype\u001b[0m\u001b[1;33m(\u001b[0m\u001b[0marrmean\u001b[0m \u001b[1;33m/\u001b[0m \u001b[0mrcount\u001b[0m\u001b[1;33m)\u001b[0m\u001b[1;33m\u001b[0m\u001b[0m\n\u001b[0m\u001b[1;32m     97\u001b[0m \u001b[1;33m\u001b[0m\u001b[0m\n\u001b[1;32m     98\u001b[0m     \u001b[1;31m# Compute sum of squared deviations from mean\u001b[0m\u001b[1;33m\u001b[0m\u001b[1;33m\u001b[0m\u001b[0m\n",
      "\u001b[0;31mAttributeError\u001b[0m: 'datetime.timedelta' object has no attribute 'dtype'"
     ]
    }
   ],
   "source": [
    "np.std(tdelta)"
   ]
  },
  {
   "cell_type": "code",
   "execution_count": null,
   "metadata": {
    "collapsed": false
   },
   "outputs": [],
   "source": [
    "np.mean(tdelta)"
   ]
  },
  {
   "cell_type": "code",
   "execution_count": null,
   "metadata": {
    "collapsed": false
   },
   "outputs": [],
   "source": [
    "stand=np.std(tdelta)"
   ]
  },
  {
   "cell_type": "code",
   "execution_count": 27,
   "metadata": {
    "collapsed": false
   },
   "outputs": [
    {
     "ename": "NameError",
     "evalue": "name 'stand' is not defined",
     "output_type": "error",
     "traceback": [
      "\u001b[0;31m---------------------------------------------------------------------------\u001b[0m",
      "\u001b[0;31mNameError\u001b[0m                                 Traceback (most recent call last)",
      "\u001b[0;32m<ipython-input-27-5167ab4448df>\u001b[0m in \u001b[0;36m<module>\u001b[0;34m()\u001b[0m\n\u001b[0;32m----> 1\u001b[0;31m \u001b[0ms\u001b[0m \u001b[1;33m=\u001b[0m \u001b[0mnp\u001b[0m\u001b[1;33m.\u001b[0m\u001b[0mrandom\u001b[0m\u001b[1;33m.\u001b[0m\u001b[0mnormal\u001b[0m\u001b[1;33m(\u001b[0m\u001b[0mmean\u001b[0m\u001b[1;33m,\u001b[0m \u001b[0mstand\u001b[0m\u001b[1;33m,\u001b[0m \u001b[1;36m10000\u001b[0m\u001b[1;33m)\u001b[0m\u001b[1;33m\u001b[0m\u001b[0m\n\u001b[0m\u001b[1;32m      2\u001b[0m \u001b[1;33m\u001b[0m\u001b[0m\n\u001b[1;32m      3\u001b[0m \u001b[1;31m# Create the bins and histogram\u001b[0m\u001b[1;33m\u001b[0m\u001b[1;33m\u001b[0m\u001b[0m\n\u001b[1;32m      4\u001b[0m \u001b[0mcount\u001b[0m\u001b[1;33m,\u001b[0m \u001b[0mbins\u001b[0m\u001b[1;33m,\u001b[0m \u001b[0mignored\u001b[0m \u001b[1;33m=\u001b[0m \u001b[0mplt\u001b[0m\u001b[1;33m.\u001b[0m\u001b[0mhist\u001b[0m\u001b[1;33m(\u001b[0m\u001b[0ms\u001b[0m\u001b[1;33m,\u001b[0m \u001b[1;36m20\u001b[0m\u001b[1;33m,\u001b[0m \u001b[0mnormed\u001b[0m\u001b[1;33m=\u001b[0m\u001b[1;32mTrue\u001b[0m\u001b[1;33m)\u001b[0m\u001b[1;33m\u001b[0m\u001b[0m\n\u001b[1;32m      5\u001b[0m \u001b[1;33m\u001b[0m\u001b[0m\n",
      "\u001b[0;31mNameError\u001b[0m: name 'stand' is not defined"
     ]
    }
   ],
   "source": [
    "s = np.random.normal(mean, stand, 10000)\n",
    "\n",
    "# Create the bins and histogram\n",
    "count, bins, ignored = plt.hist(s, 20, normed=True)\n",
    "\n",
    "# Plot the distribution curve\n",
    "plt.plot(bins, 1/(stand * np.sqrt(2 * np.pi)) *\n",
    "    np.exp( - (bins - mean)**2 / (2 * stand**2) ),       linewidth=3, color='y')\n",
    "plt.show()"
   ]
  },
  {
   "cell_type": "code",
   "execution_count": 28,
   "metadata": {
    "collapsed": false
   },
   "outputs": [
    {
     "name": "stdout",
     "output_type": "stream",
     "text": [
      "Directory changed successfully:: C:\\Users\\slcz5\\Downloads\n"
     ]
    }
   ],
   "source": [
    "# Check current working directory.\n",
    "retval2 = os.getcwd()\n",
    "\n",
    "print(\"Directory changed successfully:: %s\" % retval2)"
   ]
  },
  {
   "cell_type": "code",
   "execution_count": null,
   "metadata": {
    "collapsed": true
   },
   "outputs": [],
   "source": [
    "teststr = 'asdfghjkl'"
   ]
  },
  {
   "cell_type": "code",
   "execution_count": null,
   "metadata": {
    "collapsed": true
   },
   "outputs": [],
   "source": [
    "teststr2 = teststr[:5]"
   ]
  },
  {
   "cell_type": "code",
   "execution_count": null,
   "metadata": {
    "collapsed": false
   },
   "outputs": [],
   "source": [
    "teststr2"
   ]
  },
  {
   "cell_type": "code",
   "execution_count": null,
   "metadata": {
    "collapsed": true
   },
   "outputs": [],
   "source": []
  }
 ],
 "metadata": {
  "kernelspec": {
   "display_name": "Python 3",
   "language": "python",
   "name": "python3"
  },
  "language_info": {
   "codemirror_mode": {
    "name": "ipython",
    "version": 3
   },
   "file_extension": ".py",
   "mimetype": "text/x-python",
   "name": "python",
   "nbconvert_exporter": "python",
   "pygments_lexer": "ipython3",
   "version": "3.6.0"
  }
 },
 "nbformat": 4,
 "nbformat_minor": 2
}
