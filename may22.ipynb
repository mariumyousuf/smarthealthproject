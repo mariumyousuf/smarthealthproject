{
 "cells": [
  {
   "cell_type": "code",
   "execution_count": 1,
   "metadata": {
    "collapsed": false
   },
   "outputs": [],
   "source": [
    "import pandas as pd\n",
    "import matplotlib.pyplot as plt\n",
    "import seaborn as sns\n",
    "import numpy as np\n",
    "import os \n",
    "import csv\n",
    "import scipy as sp\n",
    "from sklearn import preprocessing\n",
    "from mpl_toolkits.mplot3d import Axes3D\n",
    "import pytz\n",
    "import time\n",
    "from datetime import datetime"
   ]
  },
  {
   "cell_type": "code",
   "execution_count": 2,
   "metadata": {
    "collapsed": false
   },
   "outputs": [
    {
     "name": "stdout",
     "output_type": "stream",
     "text": [
      "Current working directory C:\\Users\\slcz5\\Desktop\\smarthealthproject-master\n",
      "Directory changed successfully C:\\Users\\slcz5\\Desktop\\Data_Salma\\GroundT_Salma\n"
     ]
    }
   ],
   "source": [
    "path=\"/Users/slcz5/Desktop/Data_Salma/GroundT_Salma\"\n",
    "# Check current working directory.\n",
    "retval1 = os.getcwd()\n",
    "print(\"Current working directory %s\" % retval1)\n",
    "\n",
    "# Now change the directory\n",
    "os.chdir( path )\n",
    "\n",
    "# Check current working directory.\n",
    "retval2 = os.getcwd()\n",
    "\n",
    "print(\"Directory changed successfully %s\" % retval2)"
   ]
  },
  {
   "cell_type": "code",
   "execution_count": 3,
   "metadata": {
    "collapsed": true
   },
   "outputs": [],
   "source": [
    "q1 = []\n",
    "q2 = []\n",
    "q3 = []\n",
    "q5 = []\n",
    "q6 = []\n",
    "q7 = []\n",
    "q8 = []\n",
    "q9 = []\n",
    "q10 = []\n",
    "q11 = []\n",
    "q12 = []"
   ]
  },
  {
   "cell_type": "code",
   "execution_count": 4,
   "metadata": {
    "collapsed": false
   },
   "outputs": [
    {
     "name": "stdout",
     "output_type": "stream",
     "text": [
      "file:  Ap05168_SLUM_2017-05-05 10_18_05.txt\n",
      "30\n",
      "[11, 11, 45438, 59, 41, 20, 8, 23847, 13, 41242, 77]\n",
      "[11]\n",
      "file:  BC-4-245_SLUM_2017-04-27 13∩Çó57∩Çó15.txt\n",
      "25\n",
      "[35525, 9, 8, 50836, 79, 30, 18, 170, 50490, 46, 80]\n",
      "[11, 35525]\n",
      "file:  Bd5135_SLUM_2017-05-15 10∩Çó41∩Çó02.txt\n",
      "15\n",
      "[12, 7, 10, 36, 77, 43, 13, 42533, 13, 13, 91]\n",
      "[11, 35525, 12]\n",
      "file:  Bj05217_SLUM_2017-05-01 08∩Çó53∩Çó15.txt\n",
      "25\n",
      "[16, 9, 6, 30, 44, 23, 12, 69, 12, 9, 77]\n",
      "[11, 35525, 12, 16]\n",
      "file:  Bl5187_SLUM_2017-05-10 10∩Çó21∩Çó57.txt\n",
      "26\n",
      "[9, 8, 6, 30, 84500, 22, 9, 81, 17, 1765, 74]\n",
      "[11, 35525, 12, 16, 9]\n",
      "file:  Bw6211_SLUM_2017-06-21_01-44-06.txt\n",
      "28\n",
      "[13, 10, 78074, 34, 4, 24, 13, 8178, 12, 17, 83]\n",
      "[11, 35525, 12, 16, 9, 13]\n",
      "file:  CA-3-159_SLUM_2017-03-21 15∩Çó40∩Çó53.txt\n",
      "30\n",
      "[13, 11, 9, 60, 15402, 18, 23, 15538, 20, 20, 80]\n",
      "[11, 35525, 12, 16, 9, 13, 13]\n",
      "file:  Cd5197_SLUM_2017-05-31 09.52.30.txt\n",
      "30\n",
      "[7, 7, 8, 33, 49, 10, 10, 55, 10, 15, 72]\n",
      "[11, 35525, 12, 16, 9, 13, 13, 7]\n",
      "file:  CG-4-201_SLUM_2017-04-20 11∩Çó36∩Çó11.txt\n",
      "27\n",
      "[11, 10, 7, 14, 86396, 86393, 2235, 86375, 83969, 86379, 86390]\n",
      "[11, 35525, 12, 16, 9, 13, 13, 7, 11]\n",
      "file:  CJ-3-223_SLUM_2017-03-29 14∩Çó43∩Çó37.txt\n",
      "24\n",
      "[21, 11, 10, 59, 78, 43, 16, 83, 22, 23, 86]\n",
      "[11, 35525, 12, 16, 9, 13, 13, 7, 11, 21]\n",
      "file:  Cl05215_SLUM_2017-05-01 10∩Çó27∩Çó17.txt\n",
      "29\n",
      "[9, 13, 76028, 33, 33, 35, 13, 72, 13, 14, 77]\n",
      "[11, 35525, 12, 16, 9, 13, 13, 7, 11, 21, 9]\n",
      "file:  Cs04134_SLUM_2017-04-18 14∩Çó51∩Çó58.txt\n",
      "11\n",
      "[56583, 10, 8, 94, 9, 86, 30186, 7, 21, 16, 102]\n",
      "[11, 35525, 12, 16, 9, 13, 13, 7, 11, 21, 9, 56583]\n",
      "file:  DL-5-214_SLUM_2017-05-10 10∩Çó50∩Çó54.txt\n",
      "11\n",
      "[85931, 85947, 16, 43, 77, 30, 17, 89, 14, 54, 89]\n",
      "[11, 35525, 12, 16, 9, 13, 13, 7, 11, 21, 9, 56583, 85931]\n",
      "file:  DM-4-254_SLUM_2017-04-21 10∩Çó32∩Çó21.txt\n",
      "21\n",
      "[12, 76309, 76318, 40, 77, 39, 76536, 72, 18, 17, 98]\n",
      "[11, 35525, 12, 16, 9, 13, 13, 7, 11, 21, 9, 56583, 85931, 12]\n",
      "file:  DR-3-194_SLUM_2017-03-24 14_52_50.txt\n",
      "29\n",
      "[12, 11, 73135, 41, 13205, 21, 13, 73, 22, 23, 83]\n",
      "[11, 35525, 12, 16, 9, 13, 13, 7, 11, 21, 9, 56583, 85931, 12, 12]\n",
      "file:  Ac6123_SLUM_2017-06-02 14.41.46.txt\n",
      "20\n",
      "[72478, 13923, 7, 37, 13812, 13728, 23, 32253, 7, 13552, 0]\n",
      "[11, 35525, 12, 16, 9, 13, 13, 7, 11, 21, 9, 56583, 85931, 12, 12, 72478]\n",
      "file:  BC-3-120_SLUM_2017-03-28 10∩Çó54∩Çó21.txt\n",
      "25\n",
      "[12, 25678, 60720, 42, 82, 38, 15, 60, 19, 11, 80]\n",
      "[11, 35525, 12, 16, 9, 13, 13, 7, 11, 21, 9, 56583, 85931, 12, 12, 72478, 12]\n",
      "file:  FC-6-162_SLUM.txt\n",
      "27\n",
      "[9, 8, 7, 50065, 77, 36, 18, 85, 19, 45, 81]\n",
      "[11, 35525, 12, 16, 9, 13, 13, 7, 11, 21, 9, 56583, 85931, 12, 12, 72478, 12, 9]\n",
      "file:  Ga4143_SLUM_2017-04-05 12-12-38.txt\n",
      "14\n",
      "[77760, 6, 9, 47230, 85, 77560, 13, 64, 50, 21, 90]\n",
      "[11, 35525, 12, 16, 9, 13, 13, 7, 11, 21, 9, 56583, 85931, 12, 12, 72478, 12, 9, 77760]\n",
      "file:  Mt5160_SLUM_2017-05-12 092056.txt\n",
      "25\n",
      "[15, 7, 8, 52, 50, 22, 20, 77, 17, 11, 85]\n",
      "[11, 35525, 12, 16, 9, 13, 13, 7, 11, 21, 9, 56583, 85931, 12, 12, 72478, 12, 9, 77760, 15]\n",
      "file:  Mw04207_SLUM_2017-04-05 085542.txt\n",
      "19\n",
      "[15, 8, 9, 37, 36670, 23, 9, 25, 36, 43, 48]\n",
      "[11, 35525, 12, 16, 9, 13, 13, 7, 11, 21, 9, 56583, 85931, 12, 12, 72478, 12, 9, 77760, 15, 15]\n",
      "file:  MW-5-208_SLUM_2017-05-03 090950.txt\n",
      "22\n",
      "[14, 14, 8, 31, 54729, 34, 12, 104, 15, 40, 74]\n",
      "[11, 35525, 12, 16, 9, 13, 13, 7, 11, 21, 9, 56583, 85931, 12, 12, 72478, 12, 9, 77760, 15, 15, 14]\n",
      "file:  SH-4-153_SLUM_2017-04-14 110746.txt\n",
      "15\n",
      "[13, 15, 11, 26, 78, 52484, 16, 102, 19, 21, 83996]\n",
      "[11, 35525, 12, 16, 9, 13, 13, 7, 11, 21, 9, 56583, 85931, 12, 12, 72478, 12, 9, 77760, 15, 15, 14, 13]\n",
      "file:  SS-4-156_SLUM_2017-04-03 102726.txt\n",
      "20\n",
      "[12, 21, 10, 51, 74, 24, 31822, 72, 24, 28, 59258]\n",
      "[11, 35525, 12, 16, 9, 13, 13, 7, 11, 21, 9, 56583, 85931, 12, 12, 72478, 12, 9, 77760, 15, 15, 14, 13, 12]\n"
     ]
    }
   ],
   "source": [
    "###### loop to get all the file's names of patient\n",
    "Allpatient=[] \n",
    "tdelta=[]\n",
    "oldScore =[]\n",
    "for filename in os.listdir(os.getcwd()):\n",
    "    if len(filename) == 8:\n",
    "        #print(filename)\n",
    "        os.chdir(filename)\n",
    "        #get into the each patient file\n",
    "        for file in os.listdir(os.getcwd()):\n",
    "            if \"SLUM\" in file:\n",
    "                print(\"file: \", file)\n",
    "                patient=pd.read_csv(file,engine='python', encoding = \"utf-8-sig\" ,sep=\":\", header=None)\n",
    "                Allpatient.append(patient)\n",
    "                patient.columns = [\"STStamp\", \"UNIX_Timestamp\"]\n",
    "                patient.index = patient.STStamp\n",
    "                del patient['STStamp']\n",
    "                start=patient.loc[\"STStamp\"]\n",
    "                end=patient.loc[\"ETStamp\"]\n",
    "                st = start.copy()\n",
    "                st['UNIX_Timestamp'] = st['UNIX_Timestamp'].map(lambda x: x.lstrip(' ').rstrip(''))\n",
    "                en=end.copy()\n",
    "                en['UNIX_Timestamp'] = en['UNIX_Timestamp'].map(lambda x: x.lstrip(' ').rstrip(''))\n",
    "                UNIXstart = list(st.UNIX_Timestamp)\n",
    "                UNIXend = list(en.UNIX_Timestamp)\n",
    "                newList = []\n",
    "                patID=patient.loc[\"PatientID\"]\n",
    "                patID=(patID[\"UNIX_Timestamp\"])\n",
    "                for i in UNIXstart:\n",
    "                    newList.append(time.strftime('%Y-%m-%d %H:%M:%S', time.localtime(int(i)/1000)))\n",
    "\n",
    "                newList1 = []\n",
    "                for i in UNIXend:\n",
    "                    newList1.append(time.strftime('%Y-%m-%d %H:%M:%S', time.localtime(int(i)/1000)))\n",
    "                tdeltaL = []\n",
    "                for i in range(len(newList)):\n",
    "                    s1 = newList[i]\n",
    "                    s2 = newList1[i]\n",
    "                    FMT = '%Y-%m-%d %H:%M:%S'\n",
    "                    tdelta = datetime.strptime(s2, FMT) - datetime.strptime(s1, FMT)\n",
    "                    tdeltaL.append(tdelta.seconds)\n",
    "                score=patient.loc[\"Score\"]\n",
    "                scoreL = list(score[\"UNIX_Timestamp\"])\n",
    "                scoreL = [int(i) for i in scoreL]\n",
    "                score = sum(scoreL)\n",
    "                oldScore.append(score)\n",
    "                print(score)\n",
    "                #print(tdelta)\n",
    "                print(tdeltaL)\n",
    "                q1.append(tdeltaL[0])\n",
    "                q2.append(tdeltaL[1])\n",
    "                q3.append(tdeltaL[2])\n",
    "                q5.append(tdeltaL[3])\n",
    "                q6.append(tdeltaL[4])\n",
    "                q7.append(tdeltaL[5])\n",
    "                q8.append(tdeltaL[6])\n",
    "                q9.append(tdeltaL[7])\n",
    "                q10.append(tdeltaL[8])\n",
    "                q11.append(tdeltaL[9])\n",
    "                q12.append(tdeltaL[10]) \n",
    "                print(q1)\n",
    "        os.chdir('..') "
   ]
  },
  {
   "cell_type": "code",
   "execution_count": 5,
   "metadata": {
    "collapsed": false
   },
   "outputs": [
    {
     "name": "stdout",
     "output_type": "stream",
     "text": [
      "13688.0416667\n",
      "27876.7972746\n"
     ]
    }
   ],
   "source": [
    "q1mean = np.mean(q1)\n",
    "q1std = np.std(q1)\n",
    "print(q1mean)\n",
    "print(q1std)"
   ]
  },
  {
   "cell_type": "code",
   "execution_count": 6,
   "metadata": {
    "collapsed": false
   },
   "outputs": [
    {
     "name": "stdout",
     "output_type": "stream",
     "text": [
      "8419.29166667\n",
      "22695.3876766\n"
     ]
    }
   ],
   "source": [
    "q2mean = np.mean(q2)\n",
    "q2std = np.std(q2)\n",
    "print(q2mean)\n",
    "print(q2std)"
   ]
  },
  {
   "cell_type": "code",
   "execution_count": 7,
   "metadata": {
    "collapsed": false
   },
   "outputs": [
    {
     "name": "stdout",
     "output_type": "stream",
     "text": [
      "17077.9166667\n",
      "30139.1063846\n"
     ]
    }
   ],
   "source": [
    "q3mean = np.mean(q3)\n",
    "q3std = np.std(q3)\n",
    "print(q3mean)\n",
    "print(q3std)"
   ]
  },
  {
   "cell_type": "code",
   "execution_count": 8,
   "metadata": {
    "collapsed": false
   },
   "outputs": [
    {
     "name": "stdout",
     "output_type": "stream",
     "text": [
      "6208.875\n",
      "16325.230382\n"
     ]
    }
   ],
   "source": [
    "q5mean = np.mean(q5)\n",
    "q5std = np.std(q5)\n",
    "print(q5mean)\n",
    "print(q5std)"
   ]
  },
  {
   "cell_type": "code",
   "execution_count": 9,
   "metadata": {
    "collapsed": false
   },
   "outputs": [
    {
     "name": "stdout",
     "output_type": "stream",
     "text": [
      "12738.6666667\n",
      "25537.8316599\n"
     ]
    }
   ],
   "source": [
    "q6mean = np.mean(q6)\n",
    "q6std = np.std(q6)\n",
    "print(q6mean)\n",
    "print(q6std)"
   ]
  },
  {
   "cell_type": "code",
   "execution_count": 10,
   "metadata": {
    "collapsed": false
   },
   "outputs": [
    {
     "name": "stdout",
     "output_type": "stream",
     "text": [
      "9616.08333333\n",
      "24326.8531838\n"
     ]
    }
   ],
   "source": [
    "q7mean = np.mean(q7)\n",
    "q7std = np.std(q7)\n",
    "print(q7mean)\n",
    "print(q7std)"
   ]
  },
  {
   "cell_type": "code",
   "execution_count": 11,
   "metadata": {
    "collapsed": false
   },
   "outputs": [
    {
     "name": "stdout",
     "output_type": "stream",
     "text": [
      "5877.91666667\n",
      "17026.2000162\n"
     ]
    }
   ],
   "source": [
    "q8mean = np.mean(q8)\n",
    "q8std = np.std(q8)\n",
    "print(q8mean)\n",
    "print(q8std)"
   ]
  },
  {
   "cell_type": "code",
   "execution_count": 12,
   "metadata": {
    "collapsed": false
   },
   "outputs": [
    {
     "name": "stdout",
     "output_type": "stream",
     "text": [
      "8753.5\n",
      "19735.8521562\n"
     ]
    }
   ],
   "source": [
    "q9mean = np.mean(q9)\n",
    "q9std = np.std(q9)\n",
    "print(q9mean)\n",
    "print(q9std)"
   ]
  },
  {
   "cell_type": "code",
   "execution_count": 13,
   "metadata": {
    "collapsed": false
   },
   "outputs": [
    {
     "name": "stdout",
     "output_type": "stream",
     "text": [
      "5619.66666667\n",
      "19194.2991855\n"
     ]
    }
   ],
   "source": [
    "q10mean = np.mean(q10)\n",
    "q10std = np.std(q10)\n",
    "print(q10mean)\n",
    "print(q10std)"
   ]
  },
  {
   "cell_type": "code",
   "execution_count": 14,
   "metadata": {
    "collapsed": false
   },
   "outputs": [
    {
     "name": "stdout",
     "output_type": "stream",
     "text": [
      "5976.04166667\n",
      "18810.3558966\n"
     ]
    }
   ],
   "source": [
    "q11mean = np.mean(q11)\n",
    "q11std = np.std(q11)\n",
    "print(q11mean)\n",
    "print(q11std)"
   ]
  },
  {
   "cell_type": "code",
   "execution_count": 15,
   "metadata": {
    "collapsed": false
   },
   "outputs": [
    {
     "name": "stdout",
     "output_type": "stream",
     "text": [
      "9636.29166667\n",
      "25659.3148835\n"
     ]
    }
   ],
   "source": [
    "q12mean = np.mean(q12)\n",
    "q12std = np.std(q12)\n",
    "print(q12mean)\n",
    "print(q12std)"
   ]
  },
  {
   "cell_type": "code",
   "execution_count": 16,
   "metadata": {
    "collapsed": false
   },
   "outputs": [
    {
     "data": {
      "text/plain": [
       "[30,\n",
       " 25,\n",
       " 15,\n",
       " 25,\n",
       " 26,\n",
       " 28,\n",
       " 30,\n",
       " 30,\n",
       " 27,\n",
       " 24,\n",
       " 29,\n",
       " 11,\n",
       " 11,\n",
       " 21,\n",
       " 29,\n",
       " 20,\n",
       " 25,\n",
       " 27,\n",
       " 14,\n",
       " 25,\n",
       " 19,\n",
       " 22,\n",
       " 15,\n",
       " 20]"
      ]
     },
     "execution_count": 16,
     "metadata": {},
     "output_type": "execute_result"
    }
   ],
   "source": [
    "oldScore"
   ]
  },
  {
   "cell_type": "code",
   "execution_count": 24,
   "metadata": {
    "collapsed": true
   },
   "outputs": [],
   "source": [
    "newScore=[0]*len(oldScore)"
   ]
  },
  {
   "cell_type": "code",
   "execution_count": 25,
   "metadata": {
    "collapsed": false
   },
   "outputs": [
    {
     "data": {
      "text/plain": [
       "[0, 0, 0, 0, 0, 0, 0, 0, 0, 0, 0, 0, 0, 0, 0, 0, 0, 0, 0, 0, 0, 0, 0, 0]"
      ]
     },
     "execution_count": 25,
     "metadata": {},
     "output_type": "execute_result"
    }
   ],
   "source": [
    "newScore"
   ]
  },
  {
   "cell_type": "code",
   "execution_count": 22,
   "metadata": {
    "collapsed": false
   },
   "outputs": [],
   "source": [
    "newScore=[0]*len(oldScore)\n",
    "for i in range(len(q1)):\n",
    "    if q1[i] > q1mean and q1[i] < q1std: #in range(q1mean, q1std):\n",
    "        print(q1[i])\n",
    "        newScore[i]=oldScore[i]-0.25\n",
    "    elif q1[i] > q1std and q1[i] < 2*q1std :\n",
    "        newScore[i]=oldScore[i]-0.5\n",
    "    else:\n",
    "        if q1[i] >= 2*q1std:\n",
    "            newScore[i]=oldScore[i]-1\n",
    "\n",
    "    if q2[i] > q2mean and q2[i] < q2std:\n",
    "        newScore[i]=oldScore[i]-0.25\n",
    "    elif q2[i] > q2std and q1[i] < 2*q2std:\n",
    "        newScore[i]=oldScore[i]-0.5\n",
    "    else:\n",
    "        if q2[i] >= 2*q2std:\n",
    "            newScore[i]=oldScore[i]-1\n",
    "\n",
    "    if q3[i]  > q3mean and q3[i] < q3std:\n",
    "        newScore[i]=oldScore[i]-0.25\n",
    "    elif q3[i] > q3std and q3[i] < 2*q3std :\n",
    "        newScore[i]=oldScore[i]-0.5\n",
    "    else:\n",
    "        if q3[i] >= 2*q3std:\n",
    "            newScore[i]=oldScore[i]-1\n",
    "\n",
    "    if q5[i]  > q5mean and q5[i] < q5std:\n",
    "        newScore[i]=oldScore[i]-0.25\n",
    "    elif q5[i] > q5std and q5[i] < 2*q5std :\n",
    "        newScore[i]=oldScore[i]-0.5\n",
    "    else:\n",
    "        if q5[i] >= 2*q5std:\n",
    "            newScore[i]=oldScore[i]-1\n",
    "\n",
    "    if q6[i]  > q6mean and q6[i] < q6std:\n",
    "        newScore[i]=oldScore[i]-0.25\n",
    "    elif q6[i] > q6std and q6[i] < 2*q6std :\n",
    "        newScore[i]=oldScore[i]-0.5\n",
    "    else:\n",
    "        if q6[i] >= 2*q6std:\n",
    "            newScore[i]=oldScore[i]-1\n",
    "\n",
    "    if q7[i]  > q7mean and q7[i] < q7std:\n",
    "        newScore[i]=oldScore[i]-0.25\n",
    "    elif q7[i] > q7std and q7[i] < 2*q7std :\n",
    "        newScore[i]=oldScore[i]-0.5\n",
    "    else:\n",
    "        if q7[i] >= 2*q7std:\n",
    "            newScore[i]=oldScore[i]-1\n",
    "\n",
    "    if q8[i] > q8mean and q8[i] < q8std:\n",
    "        newScore[i]=oldScore[i]-0.25\n",
    "    elif q8[i] > q8std and q8[i] < 2*q8std :\n",
    "        newScore[i]=oldScore[i]-0.5\n",
    "    else:\n",
    "        if q8[i] >= 2*q8std:\n",
    "            newScore[i]=oldScore[i]-1\n",
    "\n",
    "    if q9[i]  > q9mean and q9[i] < q9std:\n",
    "        newScore[i]=oldScore[i]-0.25\n",
    "    elif q9[i] > q9std and q9[i] < 2*q9std :\n",
    "        newScore[i]=oldScore[i]-0.5\n",
    "    else:\n",
    "        if q9[i] >= 2*q9std:\n",
    "            newScore[i]=oldScore[i]-1\n",
    "\n",
    "    if q10[i] > q10mean and q10[i] < q2std:\n",
    "        newScore[i]=oldScore[i]-0.25\n",
    "    elif q10[i] > q10std and q10[i] < 2*q10std :\n",
    "        newScore[i]=oldScore[i]-0.5\n",
    "    else:\n",
    "        if q10[i] >= 2*q10std:\n",
    "            newScore[i]=oldScore[i]-1\n",
    "\n",
    "    if q11[i]  > q11mean and q11[i] < q11std:\n",
    "        newScore[i]=oldScore[i]-0.25\n",
    "    elif q11[i] > q11std and q11[i] < 2*q11std :\n",
    "        newScore[i]=oldScore[i]-0.5\n",
    "    else:\n",
    "        if q11[i] >= 2*q11std:\n",
    "            newScore[i]=oldScore[i]-1\n",
    "\n",
    "    if q12[i]  > q12mean and q12[i] < q12std:\n",
    "        newScore[i]=oldScore[i]-0.25\n",
    "    elif q12[i] > q12std and q12[i] < 2*q12std :\n",
    "        newScore[i]=oldScore[i]-0.5\n",
    "    else:\n",
    "        if q12[i] >= 2*q12std:\n",
    "            newScore[i]=oldScore[i]-1\n",
    "\n",
    "\n",
    "os.chdir('..') "
   ]
  },
  {
   "cell_type": "code",
   "execution_count": 23,
   "metadata": {
    "collapsed": false
   },
   "outputs": [
    {
     "data": {
      "text/plain": [
       "[29,\n",
       " 24,\n",
       " 14,\n",
       " 0,\n",
       " 25,\n",
       " 27,\n",
       " 29.75,\n",
       " 0,\n",
       " 26,\n",
       " 0,\n",
       " 28,\n",
       " 10.5,\n",
       " 10,\n",
       " 20,\n",
       " 28.75,\n",
       " 19.75,\n",
       " 24,\n",
       " 26,\n",
       " 13,\n",
       " 0,\n",
       " 18.5,\n",
       " 21,\n",
       " 14,\n",
       " 19]"
      ]
     },
     "execution_count": 23,
     "metadata": {},
     "output_type": "execute_result"
    }
   ],
   "source": [
    "newScore"
   ]
  },
  {
   "cell_type": "code",
   "execution_count": 19,
   "metadata": {
    "collapsed": false
   },
   "outputs": [
    {
     "data": {
      "text/plain": [
       "30"
      ]
     },
     "execution_count": 19,
     "metadata": {},
     "output_type": "execute_result"
    }
   ],
   "source": [
    "oldScore[0]"
   ]
  },
  {
   "cell_type": "code",
   "execution_count": null,
   "metadata": {
    "collapsed": false
   },
   "outputs": [],
   "source": [
    "newScore"
   ]
  },
  {
   "cell_type": "code",
   "execution_count": null,
   "metadata": {
    "collapsed": false
   },
   "outputs": [],
   "source": [
    "#avgtdelta = sum(tdelta)/len(tdelta)\n",
    "print(np.mean(tdelta))"
   ]
  },
  {
   "cell_type": "code",
   "execution_count": null,
   "metadata": {
    "collapsed": false
   },
   "outputs": [],
   "source": [
    "mean=np.mean(tdelta)"
   ]
  },
  {
   "cell_type": "code",
   "execution_count": null,
   "metadata": {
    "collapsed": false
   },
   "outputs": [],
   "source": [
    "tdelta"
   ]
  },
  {
   "cell_type": "code",
   "execution_count": null,
   "metadata": {
    "collapsed": false
   },
   "outputs": [],
   "source": [
    "np.std(tdelta)"
   ]
  },
  {
   "cell_type": "code",
   "execution_count": null,
   "metadata": {
    "collapsed": false
   },
   "outputs": [],
   "source": [
    "np.mean(tdelta)"
   ]
  },
  {
   "cell_type": "code",
   "execution_count": null,
   "metadata": {
    "collapsed": false
   },
   "outputs": [],
   "source": [
    "stand=np.std(tdelta)"
   ]
  },
  {
   "cell_type": "code",
   "execution_count": null,
   "metadata": {
    "collapsed": false
   },
   "outputs": [],
   "source": [
    "s = np.random.normal(mean, stand, 10000)\n",
    "\n",
    "# Create the bins and histogram\n",
    "count, bins, ignored = plt.hist(s, 20, normed=True)\n",
    "\n",
    "# Plot the distribution curve\n",
    "plt.plot(bins, 1/(stand * np.sqrt(2 * np.pi)) *\n",
    "    np.exp( - (bins - mean)**2 / (2 * stand**2) ),       linewidth=3, color='y')\n",
    "plt.show()"
   ]
  },
  {
   "cell_type": "code",
   "execution_count": null,
   "metadata": {
    "collapsed": false
   },
   "outputs": [],
   "source": [
    "# Check current working directory.\n",
    "retval2 = os.getcwd()\n",
    "\n",
    "print(\"Directory changed successfully:: %s\" % retval2)"
   ]
  },
  {
   "cell_type": "code",
   "execution_count": null,
   "metadata": {
    "collapsed": true
   },
   "outputs": [],
   "source": [
    "teststr = 'asdfghjkl'"
   ]
  },
  {
   "cell_type": "code",
   "execution_count": null,
   "metadata": {
    "collapsed": true
   },
   "outputs": [],
   "source": [
    "teststr2 = teststr[:5]"
   ]
  },
  {
   "cell_type": "code",
   "execution_count": null,
   "metadata": {
    "collapsed": false
   },
   "outputs": [],
   "source": [
    "teststr2"
   ]
  },
  {
   "cell_type": "code",
   "execution_count": null,
   "metadata": {
    "collapsed": true
   },
   "outputs": [],
   "source": []
  }
 ],
 "metadata": {
  "kernelspec": {
   "display_name": "Python 3",
   "language": "python",
   "name": "python3"
  },
  "language_info": {
   "codemirror_mode": {
    "name": "ipython",
    "version": 3
   },
   "file_extension": ".py",
   "mimetype": "text/x-python",
   "name": "python",
   "nbconvert_exporter": "python",
   "pygments_lexer": "ipython3",
   "version": "3.6.0"
  }
 },
 "nbformat": 4,
 "nbformat_minor": 2
}
